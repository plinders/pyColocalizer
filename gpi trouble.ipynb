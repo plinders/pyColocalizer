{
 "cells": [
  {
   "cell_type": "code",
   "execution_count": 1,
   "metadata": {
    "collapsed": true
   },
   "outputs": [],
   "source": [
    "import tifffile as tiff\n",
    "import numpy as np\n",
    "import pandas as pd\n",
    "from __future__ import division\n",
    "import matplotlib.pyplot as plt\n",
    "import seaborn as sns\n",
    "%matplotlib inline\n",
    "from sklearn.linear_model import LinearRegression\n",
    "from sklearn import datasets\n",
    "import matplotlib.gridspec as gridspec\n",
    "from sklearn.metrics import r2_score\n",
    "from os.path import basename, splitext"
   ]
  },
  {
   "cell_type": "code",
   "execution_count": 2,
   "metadata": {
    "collapsed": true
   },
   "outputs": [],
   "source": [
    "def imgToDataframe(images):\n",
    "    d = {}\n",
    "    for i in range(len(images)):\n",
    "        d[\"chan{}\".format(i + 1)] = images[i].flatten()\n",
    "    return pd.DataFrame(d)"
   ]
  },
  {
   "cell_type": "code",
   "execution_count": 11,
   "metadata": {},
   "outputs": [],
   "source": [
    "with tiff.TiffFile(\"data/test_gpi2.tif\") as tif:\n",
    "        images = tif.asarray()\n",
    "        metadata = tif[0].tags\n",
    "\n",
    "ch1 = 1 - 1\n",
    "ch2 = 2 - 1\n",
    "\n",
    "img_shape = images[0].shape\n",
    "\n",
    "df = imgToDataframe(images)\n",
    "\n",
    "df_filter = df.copy()\n",
    "\n",
    "#df_filter[df_filter == 0] = np.nan\n",
    "\n",
    "df_fix = df_filter - df_filter.min()\n",
    "\n",
    "df_fix[(df_fix.iloc[:, ch1] < (0.1 * df_fix.iloc[:, ch1].max())) &\n",
    "      (df_fix.iloc[:, ch2] < (0.1 * df_fix.iloc[:, ch2].max()))] = np.nan\n",
    "\n",
    "df_X = df_fix.iloc[:, ch1].dropna().values.reshape(-1, 1)\n",
    "df_y = df_fix.iloc[:, ch2].dropna().values.reshape(-1, 1)\n",
    "\n",
    "lm = LinearRegression()\n",
    "lm.fit(X = df_X, y = df_y)\n",
    "predictions = lm.predict(df_X)\n",
    "rsquared = r2_score(df_y, predictions)\n",
    "coef = lm.coef_\n",
    "\n",
    "#img_name = splitext(basename(input_tiff))[0]"
   ]
  },
  {
   "cell_type": "code",
   "execution_count": 8,
   "metadata": {},
   "outputs": [
    {
     "data": {
      "text/plain": [
       "array([[ 2.],\n",
       "       [ 2.],\n",
       "       [ 0.],\n",
       "       ..., \n",
       "       [ 0.],\n",
       "       [ 0.],\n",
       "       [ 0.]])"
      ]
     },
     "execution_count": 8,
     "metadata": {},
     "output_type": "execute_result"
    }
   ],
   "source": [
    "df_y"
   ]
  },
  {
   "cell_type": "code",
   "execution_count": null,
   "metadata": {
    "collapsed": true
   },
   "outputs": [],
   "source": []
  }
 ],
 "metadata": {
  "kernelspec": {
   "display_name": "Python 3",
   "language": "python",
   "name": "python3"
  },
  "language_info": {
   "codemirror_mode": {
    "name": "ipython",
    "version": 3
   },
   "file_extension": ".py",
   "mimetype": "text/x-python",
   "name": "python",
   "nbconvert_exporter": "python",
   "pygments_lexer": "ipython3",
   "version": "3.6.1"
  }
 },
 "nbformat": 4,
 "nbformat_minor": 2
}
