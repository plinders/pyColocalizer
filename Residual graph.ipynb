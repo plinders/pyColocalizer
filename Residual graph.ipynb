{
 "cells": [
  {
   "cell_type": "code",
   "execution_count": 1,
   "metadata": {
    "collapsed": true
   },
   "outputs": [],
   "source": [
    "from __future__ import division\n",
    "from os.path import basename, splitext\n",
    "import glob\n",
    "import tifffile as tiff\n",
    "import numpy as np\n",
    "import pandas as pd\n",
    "import matplotlib.pyplot as plt\n",
    "import matplotlib.gridspec as gridspec\n",
    "import seaborn as sns\n",
    "from sklearn.linear_model import LinearRegression\n",
    "from sklearn.metrics import r2_score"
   ]
  },
  {
   "cell_type": "code",
   "execution_count": 2,
   "metadata": {
    "collapsed": true
   },
   "outputs": [],
   "source": [
    "in_file = \"data/test1.tif\""
   ]
  },
  {
   "cell_type": "code",
   "execution_count": 7,
   "metadata": {
    "collapsed": true
   },
   "outputs": [],
   "source": [
    "with tiff.TiffFile(in_file) as tif:\n",
    "        images = tif.asarray()\n",
    "\n",
    "ch1 = 0\n",
    "ch2 = 1\n",
    "\n",
    "img_shape = images[0].shape\n",
    "\n",
    "def imgToDataframe():\n",
    "    \"\"\"Function to transform all channels of open tif connection to columns in a DataFrame.\"\"\"\n",
    "    d = {}\n",
    "    for i, data in enumerate(images):\n",
    "        d[\"chan{}\".format(i + 1)] = images[i].flatten()\n",
    "    return pd.DataFrame(d)\n",
    "\n",
    "df = imgToDataframe()\n",
    "\n",
    "df_filter = df.copy()\n",
    "\n",
    "df_filter[(df_filter.iloc[:, ch1] == 0) & (df_filter.iloc[:, ch2] == 0)] = np.nan\n",
    "\n",
    "df_fix = df_filter - df_filter.min()\n",
    "\n",
    "df_fix[(df_fix.iloc[:, ch1] < (0 * df_fix.iloc[:, ch1].max())) &\n",
    "       (df_fix.iloc[:, ch2] < (0 * df_fix.iloc[:, ch2].max()))] = np.nan\n",
    "\n",
    "# if (df_fix.iloc[:, ch1].max() >= 65535) | (df_fix.iloc[:, ch2].max() >= 65535):\n",
    "#     df_fix[(df_fix.iloc[:, ch1] >= 65535) | (df_fix.iloc[:, ch2] >= 65535) ] = np.nan\n",
    "# elif (df_fix.iloc[:, ch1].max() >= 4095) | (df_fix.iloc[:, ch2].max() >= 4095):\n",
    "#     df_fix[(df_fix.iloc[:, ch1] >= 4095) | (df_fix.iloc[:, ch2] >= 4095) ] = np.nan\n",
    "# elif (df_fix.iloc[:, ch1].max() >= 255) | (df_fix.iloc[:, ch2].max() >= 255):\n",
    "#     df_fix[(df_fix.iloc[:, ch1] >= 255) | (df_fix.iloc[:, ch2] >= 255) ] = np.nan\n",
    "\n",
    "df_mean = df_fix / np.mean(df_fix)\n",
    "\n",
    "df_X = df_mean.iloc[:, ch1].dropna().values.reshape(-1, 1)\n",
    "df_y = df_mean.iloc[:, ch2].dropna().values.reshape(-1, 1)\n",
    "\n",
    "lm = LinearRegression()\n",
    "lm.fit(X=df_X, y=df_y)\n",
    "predictions = lm.predict(df_X)\n",
    "rsquared = r2_score(df_y, predictions)\n",
    "coef = lm.coef_\n",
    "\n",
    "residuals = df_y - predictions\n",
    "\n",
    "img_name = splitext(basename(in_file))[0]"
   ]
  },
  {
   "cell_type": "code",
   "execution_count": 15,
   "metadata": {},
   "outputs": [
    {
     "ename": "AttributeError",
     "evalue": "'numpy.ndarray' object has no attribute 'values'",
     "output_type": "error",
     "traceback": [
      "\u001b[1;31m\u001b[0m",
      "\u001b[1;31mAttributeError\u001b[0mTraceback (most recent call last)",
      "\u001b[1;32m<ipython-input-15-d69916343b11>\u001b[0m in \u001b[0;36m<module>\u001b[1;34m()\u001b[0m\n\u001b[1;32m----> 1\u001b[1;33m \u001b[0mresiduals_reshaped\u001b[0m \u001b[1;33m=\u001b[0m \u001b[0mresiduals\u001b[0m\u001b[1;33m.\u001b[0m\u001b[0mvalues\u001b[0m\u001b[1;33m.\u001b[0m\u001b[0mreshape\u001b[0m\u001b[1;33m(\u001b[0m\u001b[0mimg_shape\u001b[0m\u001b[1;33m)\u001b[0m\u001b[1;33m\u001b[0m\u001b[0m\n\u001b[0m",
      "\u001b[1;31mAttributeError\u001b[0m: 'numpy.ndarray' object has no attribute 'values'"
     ]
    }
   ],
   "source": [
    "residuals_reshaped = residuals.reshape(img_shape)"
   ]
  },
  {
   "cell_type": "code",
   "execution_count": 24,
   "metadata": {},
   "outputs": [
    {
     "data": {
      "text/plain": [
       "array([[    0],\n",
       "       [    1],\n",
       "       [    2],\n",
       "       ..., \n",
       "       [93402],\n",
       "       [93403],\n",
       "       [93404]], dtype=int64)"
      ]
     },
     "execution_count": 24,
     "metadata": {},
     "output_type": "execute_result"
    }
   ],
   "source": [
    "np.argwhere(np.isnan(df_mean.iloc[:, 0]))"
   ]
  },
  {
   "cell_type": "code",
   "execution_count": null,
   "metadata": {
    "collapsed": true
   },
   "outputs": [],
   "source": []
  }
 ],
 "metadata": {
  "kernelspec": {
   "display_name": "Python 2",
   "language": "python",
   "name": "python2"
  },
  "language_info": {
   "codemirror_mode": {
    "name": "ipython",
    "version": 2
   },
   "file_extension": ".py",
   "mimetype": "text/x-python",
   "name": "python",
   "nbconvert_exporter": "python",
   "pygments_lexer": "ipython2",
   "version": "2.7.13"
  }
 },
 "nbformat": 4,
 "nbformat_minor": 2
}
